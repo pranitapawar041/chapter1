{
  "nbformat": 4,
  "nbformat_minor": 0,
  "metadata": {
    "colab": {
      "name": "Python basics.ipynb",
      "provenance": [],
      "collapsed_sections": [],
      "authorship_tag": "ABX9TyNSDJEZTFNa6dUULY3iT4Px",
      "include_colab_link": true
    },
    "kernelspec": {
      "name": "python3",
      "display_name": "Python 3"
    },
    "language_info": {
      "name": "python"
    }
  },
  "cells": [
    {
      "cell_type": "markdown",
      "metadata": {
        "id": "view-in-github",
        "colab_type": "text"
      },
      "source": [
        "<a href=\"https://colab.research.google.com/github/pranitapawar041/chapter1/blob/master/Python_basics.ipynb\" target=\"_parent\"><img src=\"https://colab.research.google.com/assets/colab-badge.svg\" alt=\"Open In Colab\"/></a>"
      ]
    },
    {
      "cell_type": "code",
      "metadata": {
        "colab": {
          "base_uri": "https://localhost:8080/"
        },
        "id": "kAd61fmfxveS",
        "outputId": "f22d5a72-0434-4dcd-aab7-5d6983a37681"
      },
      "source": [
        "print('Hello! Sunshine')"
      ],
      "execution_count": null,
      "outputs": [
        {
          "output_type": "stream",
          "name": "stdout",
          "text": [
            "Hello! Sunshine\n"
          ]
        }
      ]
    },
    {
      "cell_type": "code",
      "metadata": {
        "colab": {
          "base_uri": "https://localhost:8080/"
        },
        "id": "mINU07Gl6J4V",
        "outputId": "656cb0e9-7487-495a-f28d-c0e905c83431"
      },
      "source": [
        "print('*' * 10) #multiplying string with 10"
      ],
      "execution_count": null,
      "outputs": [
        {
          "output_type": "stream",
          "name": "stdout",
          "text": [
            "**********\n"
          ]
        }
      ]
    },
    {
      "cell_type": "code",
      "metadata": {
        "colab": {
          "base_uri": "https://localhost:8080/"
        },
        "id": "OlCmcFb_7AWF",
        "outputId": "291f18fc-8377-4fd2-c6d8-511e19608126"
      },
      "source": [
        " #variable could take any value integer,float,string,boolean\n",
        " #variable name has to be writen in lower case\n",
        "\n",
        " price = 10\n",
        " rating = 4.9\n",
        " name = 'mosh'\n",
        " is_good = False\n",
        " print(price)\n",
        "\n",
        " #exercise\n",
        " name = 'john smith'\n",
        " age = 20\n",
        " is_new_patient = True"
      ],
      "execution_count": null,
      "outputs": [
        {
          "output_type": "stream",
          "name": "stdout",
          "text": [
            "10\n"
          ]
        }
      ]
    },
    {
      "cell_type": "code",
      "metadata": {
        "colab": {
          "base_uri": "https://localhost:8080/"
        },
        "id": "ykrYNCYzCXtu",
        "outputId": "fa8c7674-2107-47c4-cb71-4f89e9142e45"
      },
      "source": [
        "#taking input from user\n",
        "name = input('tell me ur name ')\n",
        "print('heyyy ' + name)\n",
        "color = input('whats your fav color')\n",
        "print(name + ' likes '+ color)"
      ],
      "execution_count": null,
      "outputs": [
        {
          "output_type": "stream",
          "name": "stdout",
          "text": [
            "tell me ur name pranita\n",
            "heyyy pranita\n",
            "whats your fav colorred\n",
            "pranita likes red\n"
          ]
        }
      ]
    },
    {
      "cell_type": "code",
      "metadata": {
        "colab": {
          "base_uri": "https://localhost:8080/"
        },
        "id": "h-DIVpNuJGul",
        "outputId": "a24e381f-736d-4e3a-eee9-ea9179ae6cc9"
      },
      "source": [
        "#type conversion\n",
        "#take birth year and predict the age\n",
        "birth_year = input('enter birth year:')\n",
        "age = 2021 - int(birth_year)\n",
        "print(type(age))\n",
        "print(age)"
      ],
      "execution_count": null,
      "outputs": [
        {
          "output_type": "stream",
          "name": "stdout",
          "text": [
            "enter birth year:1998\n",
            "<class 'int'>\n",
            "23\n"
          ]
        }
      ]
    },
    {
      "cell_type": "code",
      "metadata": {
        "colab": {
          "base_uri": "https://localhost:8080/"
        },
        "id": "LAzCU5BIjssF",
        "outputId": "d3e3426f-59c4-4ae3-b52a-596ec2d873a1"
      },
      "source": [
        "##STRINGS\n",
        "Course = 'the \"python\" course'\n",
        "print(Course)\n",
        "print(Course[0]) #indexing\n",
        "print(Course[-1])\n",
        "print(Course[0:3])\n",
        "print(Course[:]) #returns all\n",
        "# for longer lines\n",
        "Course1 = '''the course\n",
        "is elegant tho'''\n",
        "print(Course1)\n",
        "\n",
        "#FUNCTIONS FOR STRINGS\n",
        "print(len(Course))\n",
        "print(Course.find('p'))\n",
        "print(Course.replace('python','pyyython'))\n",
        "print('python' in Course)\n",
        "print(Course.upper())\n",
        "print(Course.lower())\n"
      ],
      "execution_count": null,
      "outputs": [
        {
          "output_type": "stream",
          "name": "stdout",
          "text": [
            "the \"python\" course\n",
            "t\n",
            "e\n",
            "the\n",
            "the \"python\" course\n",
            "the course\n",
            "is elegant tho\n",
            "19\n",
            "5\n",
            "the \"pyyython\" course\n",
            "True\n",
            "THE \"PYTHON\" COURSE\n",
            "the \"python\" course\n"
          ]
        }
      ]
    },
    {
      "cell_type": "code",
      "metadata": {
        "colab": {
          "base_uri": "https://localhost:8080/"
        },
        "id": "btWNHpkl_Gh8",
        "outputId": "310b5cbb-920b-4902-fc19-73e866f5f7fd"
      },
      "source": [
        "#airthmetic operations\n",
        "x = 10\n",
        "x = x+3\n",
        "print(x)\n",
        "x += 3 #augmented assignment operator\n",
        "print(x)\n",
        "\n",
        "#operator precedence - exponentiation,* % + -\n",
        "\n"
      ],
      "execution_count": null,
      "outputs": [
        {
          "output_type": "stream",
          "name": "stdout",
          "text": [
            "13\n",
            "16\n"
          ]
        }
      ]
    },
    {
      "cell_type": "code",
      "metadata": {
        "colab": {
          "base_uri": "https://localhost:8080/"
        },
        "id": "juND5c1jr-ax",
        "outputId": "6f2bdcd4-e551-4a0f-ac8d-40bd5a800f9a"
      },
      "source": [
        "#math function\n",
        "x = 2.9\n",
        "print(round(x))\n",
        "print(abs(x))\n",
        "# we can use math module instead\n",
        "import math\n",
        "print(math.ceil(x))"
      ],
      "execution_count": null,
      "outputs": [
        {
          "output_type": "stream",
          "name": "stdout",
          "text": [
            "3\n",
            "2.9\n",
            "3\n"
          ]
        }
      ]
    },
    {
      "cell_type": "code",
      "metadata": {
        "colab": {
          "base_uri": "https://localhost:8080/"
        },
        "id": "9XMh_rvntIc4",
        "outputId": "a4bb9448-5676-4ecb-c774-4dab79b8af37"
      },
      "source": [
        "# if statement\n",
        "its_hot = False\n",
        "its_cold = True\n",
        "\n",
        "if its_hot:\n",
        "  print('its a hot day')\n",
        "  print('drink plenty of water')\n",
        "elif its_cold:\n",
        "  print('its a cold day')\n",
        "  print('wear warm clothes')\n",
        "else:\n",
        "  print('its a lovely day')\n",
        "print('have a nice day')\n",
        "\n",
        "# exercise\n",
        "price = 1000000\n",
        "has_good_credit = True\n",
        "if has_good_credit:\n",
        "  down_payment = 0.1 * price\n",
        "else:\n",
        "  down_payment = 0.2 * price\n",
        "print(f\"down payment:${down_payment}\")\n"
      ],
      "execution_count": null,
      "outputs": [
        {
          "output_type": "stream",
          "name": "stdout",
          "text": [
            "its a cold day\n",
            "wear warm clothes\n",
            "have a nice day\n",
            "down payment:$100000.0\n"
          ]
        }
      ]
    },
    {
      "cell_type": "code",
      "metadata": {
        "id": "YbkUBYAeyMJG"
      },
      "source": [
        "#logical operators\n",
        "# AND - both condition has to be true\n",
        "# OR  - atleast one cond has to be true\n",
        "# NOT - it reverses the given condition"
      ],
      "execution_count": null,
      "outputs": []
    },
    {
      "cell_type": "code",
      "metadata": {
        "colab": {
          "base_uri": "https://localhost:8080/"
        },
        "id": "FasRMKrAzV1K",
        "outputId": "878c6659-10c7-49fc-841b-4fa4e87a7dc9"
      },
      "source": [
        "#Condition operators - <,><=,>=,==,!=\n",
        "temp = 35\n",
        "if temp > 30:\n",
        "  print('its a hot day')\n",
        "elif temp < 30:\n",
        "  print('its cold day')\n",
        "else:\n",
        "  print('neither hot not cold!')"
      ],
      "execution_count": null,
      "outputs": [
        {
          "output_type": "stream",
          "name": "stdout",
          "text": [
            "its a hot day\n"
          ]
        }
      ]
    },
    {
      "cell_type": "code",
      "metadata": {
        "colab": {
          "base_uri": "https://localhost:8080/"
        },
        "id": "vy98emmr1b8f",
        "outputId": "dc137481-55dd-4313-b2d9-e8b694be2b65"
      },
      "source": [
        "# while loop - here we put any ccondition in front of while and then write code below it that - and this code block will be executed  repeatedly\n",
        "i = 1\n",
        "while i <= 5:\n",
        "  print('*' * i)\n",
        "  i = i + 1 \n",
        "print('done')\n"
      ],
      "execution_count": null,
      "outputs": [
        {
          "output_type": "stream",
          "name": "stdout",
          "text": [
            "*\n",
            "**\n",
            "***\n",
            "****\n",
            "*****\n",
            "done\n"
          ]
        }
      ]
    },
    {
      "cell_type": "code",
      "metadata": {
        "id": "RNsrfT2t8hTE"
      },
      "source": [
        "# for loops to iterate over each char in the string\n",
        "prices = [10,20,30]\n",
        "total = 0\n",
        "for price in prices:\n",
        "  total += price\n",
        "print(f\"Total:{total}\")\n",
        "\n",
        "for item in [5,6,7,8]:\n",
        "  print(item)\n",
        "for item in range(5,20,2):\n",
        "  print(item)"
      ],
      "execution_count": null,
      "outputs": []
    },
    {
      "cell_type": "code",
      "metadata": {
        "colab": {
          "base_uri": "https://localhost:8080/"
        },
        "id": "OvkUzraEG37j",
        "outputId": "f848d448-1555-47d5-da27-222d2e70ebbc"
      },
      "source": [
        "# functions\n",
        "def greet_user():\n",
        "  print('hii there!')\n",
        "  print('supppp?')\n",
        "print('start')\n",
        "print(greet_user())\n",
        "print('finish')\n"
      ],
      "execution_count": null,
      "outputs": [
        {
          "output_type": "stream",
          "name": "stdout",
          "text": [
            "start\n",
            "hii there!\n",
            "supppp?\n",
            "None\n",
            "finish\n"
          ]
        }
      ]
    }
  ]
}